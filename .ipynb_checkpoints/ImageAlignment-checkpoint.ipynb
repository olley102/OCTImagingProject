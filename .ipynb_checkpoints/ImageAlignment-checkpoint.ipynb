{
 "cells": [
  {
   "cell_type": "code",
   "execution_count": 1,
   "id": "dd96266b-acd8-4761-af40-d7a47d8c96b8",
   "metadata": {},
   "outputs": [],
   "source": [
    "import numpy as np"
   ]
  },
  {
   "cell_type": "code",
   "execution_count": 2,
   "id": "e6fe6d71-3c99-4208-aee9-9be61c567996",
   "metadata": {},
   "outputs": [],
   "source": [
    "import matplotlib.pyplot as plt"
   ]
  },
  {
   "cell_type": "code",
   "execution_count": 3,
   "id": "b76b24e0-3922-419c-b3cf-418ab12ac558",
   "metadata": {},
   "outputs": [],
   "source": [
    "from scipy.ndimage import map_coordinates"
   ]
  },
  {
   "cell_type": "code",
   "execution_count": 4,
   "id": "d3abd56d-1f57-4af8-80ed-d6b9c0a4f8ed",
   "metadata": {},
   "outputs": [],
   "source": [
    "def rotation_matrix(theta):\n",
    "    return np.array([\n",
    "        [np.cos(theta), -np.sin(theta)],\n",
    "        [np.sin(theta), np.cos(theta)]\n",
    "    ])"
   ]
  },
  {
   "cell_type": "code",
   "execution_count": 5,
   "id": "56c328a6-bfe5-49c8-8306-394354ff3ca6",
   "metadata": {},
   "outputs": [],
   "source": [
    "def rotation_matrix_derivative(theta):\n",
    "    return np.array([\n",
    "        [-np.sin(theta), -np.cos(theta)],\n",
    "        [np.cos(theta), -np.sin(theta)]\n",
    "    ])"
   ]
  },
  {
   "cell_type": "code",
   "execution_count": 6,
   "id": "81930f11-3782-427a-a5b7-a5819281eeca",
   "metadata": {},
   "outputs": [],
   "source": [
    "def rotate_image(theta, image):\n",
    "    h, w = image.shape\n",
    "\n",
    "    y, x = np.indices((h, w))\n",
    "    cx = w/2.0 - 0.5  # because of zero-indexing\n",
    "    cy = h/2.0 - 0.5\n",
    "    coords = np.vstack([(x - cx).ravel(), (y - cy).ravel()])\n",
    "\n",
    "    R = rotation_matrix(theta)\n",
    "    rotated = R @ coords\n",
    "    \n",
    "    x_rot = rotated[0,:] + cx\n",
    "    y_rot = rotated[1,:] + cy\n",
    "\n",
    "    I_rot = map_coordinates(image, [y_rot, x_rot], order=1, mode='constant', cval=0.0)\n",
    "    I_rot = I_rot.reshape(h, w)\n",
    "\n",
    "    return I_rot"
   ]
  },
  {
   "cell_type": "code",
   "execution_count": 18,
   "id": "18652992-bf9a-4abd-88a7-fa22296094bf",
   "metadata": {},
   "outputs": [],
   "source": [
    "def loss_and_gradient(theta, I_ref, I_mov):\n",
    "    h, w = I_ref.shape\n",
    "\n",
    "    y, x = np.indices((h, w))\n",
    "    cx = w/2.0 - 0.5  # because of zero-indexing\n",
    "    cy = h/2.0 - 0.5\n",
    "    coords = np.vstack([(x - cx).ravel(), (y - cy).ravel()])\n",
    "\n",
    "    R = rotation_matrix(theta)\n",
    "    Rp = rotation_matrix_derivative(theta)\n",
    "    rotated = R @ coords\n",
    "\n",
    "    x_rot = rotated[0,:] + cx\n",
    "    y_rot = rotated[1,:] + cy\n",
    "\n",
    "    I_mov_rot = map_coordinates(I_mov, [y_rot, x_rot], order=1, mode='constant', cval=0.0)\n",
    "    I_mov_rot = I_mov_rot.reshape(h, w)\n",
    "\n",
    "    grad_y, grad_x = np.gradient(I_mov)\n",
    "\n",
    "    gx = map_coordinates(grad_x, [y_rot, x_rot], order=1, mode='constant', cval=0.0)\n",
    "    gy = map_coordinates(grad_y, [y_rot, x_rot], order=1, mode='constant', cval=0.0)\n",
    "\n",
    "    N = I_ref.shape[0] * I_ref.shape[1]\n",
    "    diff = I_mov_rot - I_ref\n",
    "    loss = np.sum(diff**2) / N\n",
    "\n",
    "    Rp_coords = Rp @ coords\n",
    "    dxdtheta = Rp_coords[0,:]\n",
    "    dydtheta = Rp_coords[1,:]\n",
    "\n",
    "    grad_term = gx * dxdtheta + gy * dydtheta\n",
    "    dloss = 2.0/N * np.sum(diff.ravel() * grad_term)\n",
    "    \n",
    "    return loss, dloss"
   ]
  },
  {
   "cell_type": "code",
   "execution_count": 19,
   "id": "8ba829c3-899e-4380-828b-bf44b31b3543",
   "metadata": {},
   "outputs": [],
   "source": [
    "def gradient_update(theta, I_ref, I_mov, step_size):\n",
    "    loss, grad = loss_and_gradient(theta, I_ref, I_mov)\n",
    "    theta_new = theta - step_size * grad\n",
    "    return loss, theta_new"
   ]
  },
  {
   "cell_type": "code",
   "execution_count": 20,
   "id": "54be921a-5744-4de3-bda5-bea05d7ce37a",
   "metadata": {},
   "outputs": [],
   "source": [
    "def gradient_descent(theta_init, I_ref, I_mov, step_size, max_steps, loss_threshold):\n",
    "    theta = theta_init\n",
    "    loss, grad = loss_and_gradient(theta, I_ref, I_mov)\n",
    "    history = [(loss, theta)]\n",
    "\n",
    "    step_num = 1\n",
    "    while step_num < max_steps and loss > loss_threshold:\n",
    "        loss, theta = gradient_update(theta, I_ref, I_mov, step_size)\n",
    "        history.append((loss, theta))\n",
    "        step_num += 1\n",
    "\n",
    "    success = loss <= loss_threshold\n",
    "\n",
    "    return history, theta, success"
   ]
  },
  {
   "cell_type": "markdown",
   "id": "c2ba037e-2223-49bb-9604-d5e681cad1bf",
   "metadata": {},
   "source": [
    "## Test image"
   ]
  },
  {
   "cell_type": "code",
   "execution_count": 21,
   "id": "eba62965-add3-4806-b0f8-01908d495242",
   "metadata": {},
   "outputs": [],
   "source": [
    "import cv2"
   ]
  },
  {
   "cell_type": "code",
   "execution_count": 22,
   "id": "ad294acc-1336-427a-8334-d92922509c48",
   "metadata": {},
   "outputs": [],
   "source": [
    "letter_l = cv2.imread('letter_l.jpg', cv2.IMREAD_GRAYSCALE)"
   ]
  },
  {
   "cell_type": "code",
   "execution_count": 41,
   "id": "58e41198-ddb1-4638-a330-54606f65b1cd",
   "metadata": {},
   "outputs": [],
   "source": [
    "letter_l = (255 - letter_l)/255"
   ]
  },
  {
   "cell_type": "code",
   "execution_count": 42,
   "id": "40626a4b-0d3d-484b-9c45-a7f955d5d682",
   "metadata": {},
   "outputs": [
    {
     "data": {
      "text/plain": [
       "<matplotlib.image.AxesImage at 0x1cc1c821450>"
      ]
     },
     "execution_count": 42,
     "metadata": {},
     "output_type": "execute_result"
    },
    {
     "data": {
      "image/png": "[encoded data removed]",
      "text/plain": [
       "<Figure size 640x480 with 1 Axes>"
      ]
     },
     "metadata": {},
     "output_type": "display_data"
    }
   ],
   "source": [
    "plt.imshow(letter_l, cmap='Grays_r')"
   ]
  },
  {
   "cell_type": "code",
   "execution_count": 43,
   "id": "f7d09593-6290-48f0-832c-823b9e12d44f",
   "metadata": {},
   "outputs": [],
   "source": [
    "rotated_letter_l = rotate_image(np.pi/2, letter_l)"
   ]
  },
  {
   "cell_type": "code",
   "execution_count": 44,
   "id": "61082bd6-e578-42f5-99b5-d35a81b331b9",
   "metadata": {},
   "outputs": [
    {
     "data": {
      "text/plain": [
       "<matplotlib.image.AxesImage at 0x1cc1da97250>"
      ]
     },
     "execution_count": 44,
     "metadata": {},
     "output_type": "execute_result"
    },
    {
     "data": {
      "image/png": "[encoded data removed]",
      "text/plain": [
       "<Figure size 640x480 with 1 Axes>"
      ]
     },
     "metadata": {},
     "output_type": "display_data"
    }
   ],
   "source": [
    "plt.imshow(rotated_letter_l, cmap='Grays_r')"
   ]
  },
  {
   "cell_type": "code",
   "execution_count": 77,
   "id": "5a94f2e9-220e-42ad-a0c0-ca1755b59d37",
   "metadata": {},
   "outputs": [],
   "source": [
    "history, theta, success = gradient_descent(-0.1, letter_l, rotated_letter_l, step_size=1.0, max_steps=50, loss_threshold=0.001)"
   ]
  },
  {
   "cell_type": "code",
   "execution_count": 78,
   "id": "cd1232fb-275c-48c7-8891-c0d5ed505e03",
   "metadata": {},
   "outputs": [
    {
     "data": {
      "text/plain": [
       "[(np.float64(0.23585802954335894), -0.1),\n",
       " (np.float64(0.23585802954335894), np.float64(-0.10600558376339275)),\n",
       " (np.float64(0.2358200870058872), np.float64(-0.1122114576789818)),\n",
       " (np.float64(0.23578128046802466), np.float64(-0.11891255894928798)),\n",
       " (np.float64(0.23573416764359945), np.float64(-0.12598966211117557)),\n",
       " (np.float64(0.23568129362708146), np.float64(-0.13356993264288103)),\n",
       " (np.float64(0.23562217007789385), np.float64(-0.14171842131995355)),\n",
       " (np.float64(0.23555572106280248), np.float64(-0.15040953223599815)),\n",
       " (np.float64(0.2354755025994399), np.float64(-0.1599105284709979)),\n",
       " (np.float64(0.2353822936284372), np.float64(-0.17078391871413054)),\n",
       " (np.float64(0.23525469825456005), np.float64(-0.1846500217702841)),\n",
       " (np.float64(0.23502728798741107), np.float64(-0.2049834942549583)),\n",
       " (np.float64(0.234507975265488), np.float64(-0.23527301363183448)),\n",
       " (np.float64(0.23339914009115745), np.float64(-0.27786594195298586)),\n",
       " (np.float64(0.2312837053687322), np.float64(-0.33440472139497546)),\n",
       " (np.float64(0.2276223803117565), np.float64(-0.4072173713815567)),\n",
       " (np.float64(0.22159415592667647), np.float64(-0.5001459589950287)),\n",
       " (np.float64(0.21167738791308713), np.float64(-0.6214060139601091)),\n",
       " (np.float64(0.19441027359049792), np.float64(-0.7782227713632691)),\n",
       " (np.float64(0.17117018891453314), np.float64(-0.922544682049228)),\n",
       " (np.float64(0.14976203764926144), np.float64(-1.0807318631675304)),\n",
       " (np.float64(0.12101070743697377), np.float64(-1.2919956804466761)),\n",
       " (np.float64(0.07364630101009748), np.float64(-1.5326639285179013)),\n",
       " (np.float64(0.008925556167635892), np.float64(-1.817918970579497)),\n",
       " (np.float64(0.06591653238991085), np.float64(-1.5706628265014597)),\n",
       " (np.float64(2.2900831456642124e-07), np.float64(-1.5730558634130252))]"
      ]
     },
     "execution_count": 78,
     "metadata": {},
     "output_type": "execute_result"
    }
   ],
   "source": [
    "history"
   ]
  },
  {
   "cell_type": "code",
   "execution_count": 79,
   "id": "ef6f7482-fea9-4d34-9814-af2c21030472",
   "metadata": {},
   "outputs": [
    {
     "data": {
      "text/plain": [
       "np.True_"
      ]
     },
     "execution_count": 79,
     "metadata": {},
     "output_type": "execute_result"
    }
   ],
   "source": [
    "success"
   ]
  },
  {
   "cell_type": "code",
   "execution_count": 80,
   "id": "77d2bb31-0929-42f1-b160-8f32a46347c5",
   "metadata": {},
   "outputs": [],
   "source": [
    "test = rotate_image(-1.5730558634130252, rotated_letter_l)"
   ]
  },
  {
   "cell_type": "code",
   "execution_count": 81,
   "id": "f363c0bb-51ef-4bf1-b131-135187233d77",
   "metadata": {},
   "outputs": [
    {
     "data": {
      "text/plain": [
       "<matplotlib.image.AxesImage at 0x1cc1dbbc2d0>"
      ]
     },
     "execution_count": 81,
     "metadata": {},
     "output_type": "execute_result"
    },
    {
     "data": {
      "image/png": "[encoded data removed]",
      "text/plain": [
       "<Figure size 640x480 with 1 Axes>"
      ]
     },
     "metadata": {},
     "output_type": "display_data"
    }
   ],
   "source": [
    "plt.imshow(test, cmap='Grays_r')"
   ]
  },
  {
   "cell_type": "code",
   "execution_count": 31,
   "id": "e670aa38-2495-40b6-aae3-66eda0bab9ba",
   "metadata": {},
   "outputs": [
    {
     "data": {
      "text/plain": [
       "np.False_"
      ]
     },
     "execution_count": 31,
     "metadata": {},
     "output_type": "execute_result"
    }
   ],
   "source": [
    "success"
   ]
  },
  {
   "cell_type": "code",
   "execution_count": 84,
   "id": "597c9dad-dfc8-4aed-a30c-94e02a7bf760",
   "metadata": {},
   "outputs": [],
   "source": [
    "history_arr = np.array(history)"
   ]
  },
  {
   "cell_type": "code",
   "execution_count": 86,
   "id": "479e05fb-0fb0-4f25-8432-ddd06dddf010",
   "metadata": {},
   "outputs": [
    {
     "data": {
      "text/plain": [
       "array([[ 2.35858030e-01, -1.00000000e-01],\n",
       "       [ 2.35858030e-01, -1.06005584e-01],\n",
       "       [ 2.35820087e-01, -1.12211458e-01],\n",
       "       [ 2.35781280e-01, -1.18912559e-01],\n",
       "       [ 2.35734168e-01, -1.25989662e-01],\n",
       "       [ 2.35681294e-01, -1.33569933e-01],\n",
       "       [ 2.35622170e-01, -1.41718421e-01],\n",
       "       [ 2.35555721e-01, -1.50409532e-01],\n",
       "       [ 2.35475503e-01, -1.59910528e-01],\n",
       "       [ 2.35382294e-01, -1.70783919e-01],\n",
       "       [ 2.35254698e-01, -1.84650022e-01],\n",
       "       [ 2.35027288e-01, -2.04983494e-01],\n",
       "       [ 2.34507975e-01, -2.35273014e-01],\n",
       "       [ 2.33399140e-01, -2.77865942e-01],\n",
       "       [ 2.31283705e-01, -3.34404721e-01],\n",
       "       [ 2.27622380e-01, -4.07217371e-01],\n",
       "       [ 2.21594156e-01, -5.00145959e-01],\n",
       "       [ 2.11677388e-01, -6.21406014e-01],\n",
       "       [ 1.94410274e-01, -7.78222771e-01],\n",
       "       [ 1.71170189e-01, -9.22544682e-01],\n",
       "       [ 1.49762038e-01, -1.08073186e+00],\n",
       "       [ 1.21010707e-01, -1.29199568e+00],\n",
       "       [ 7.36463010e-02, -1.53266393e+00],\n",
       "       [ 8.92555617e-03, -1.81791897e+00],\n",
       "       [ 6.59165324e-02, -1.57066283e+00],\n",
       "       [ 2.29008315e-07, -1.57305586e+00]])"
      ]
     },
     "execution_count": 86,
     "metadata": {},
     "output_type": "execute_result"
    }
   ],
   "source": [
    "history_arr"
   ]
  },
  {
   "cell_type": "code",
   "execution_count": 89,
   "id": "5438ac11-0f69-4360-9b40-e22c9690661a",
   "metadata": {},
   "outputs": [
    {
     "data": {
      "text/plain": [
       "[<matplotlib.lines.Line2D at 0x1cc2072ead0>]"
      ]
     },
     "execution_count": 89,
     "metadata": {},
     "output_type": "execute_result"
    },
    {
     "data": {
      "image/png": "[encoded data removed]",
      "text/plain": [
       "<Figure size 640x480 with 1 Axes>"
      ]
     },
     "metadata": {},
     "output_type": "display_data"
    }
   ],
   "source": [
    "plt.plot(history_arr[:,0])\n",
    "plt.savefig('loss_history_letter_l')"
   ]
  },
  {
   "cell_type": "code",
   "execution_count": null,
   "id": "2f3624ae-cfbd-42b0-8569-8d5ddea96a63",
   "metadata": {},
   "outputs": [],
   "source": []
  }
 ],
 "metadata": {
  "kernelspec": {
   "display_name": "Python 3 (ipykernel)",
   "language": "python",
   "name": "python3"
  },
  "language_info": {
   "codemirror_mode": {
    "name": "ipython",
    "version": 3
   },
   "file_extension": ".py",
   "mimetype": "text/x-python",
   "name": "python",
   "nbconvert_exporter": "python",
   "pygments_lexer": "ipython3",
   "version": "3.13.7"
  }
 },
 "nbformat": 4,
 "nbformat_minor": 5
}
