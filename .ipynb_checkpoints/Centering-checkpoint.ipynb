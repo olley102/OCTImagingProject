{
 "cells": [
  {
   "cell_type": "markdown",
   "id": "bc2a6fd6-e36b-478b-b623-8b98017eef9c",
   "metadata": {},
   "source": [
    "# Centering Images"
   ]
  },
  {
   "cell_type": "markdown",
   "id": "2b935970-8179-44f1-893a-ae7dd6b343a6",
   "metadata": {},
   "source": [
    "## Setup"
   ]
  },
  {
   "cell_type": "code",
   "execution_count": 2,
   "id": "399081d5-a6a5-43e4-aa61-5851a7048f03",
   "metadata": {},
   "outputs": [],
   "source": [
    "import os\n",
    "import numpy as np\n",
    "import matplotlib.pyplot as plt"
   ]
  },
  {
   "cell_type": "code",
   "execution_count": 3,
   "id": "7afbe4a8-c4ef-4361-b5af-dddf71e52644",
   "metadata": {},
   "outputs": [],
   "source": [
    "import nibabel as nb\n",
    "from nilearn import plotting"
   ]
  },
  {
   "cell_type": "code",
   "execution_count": 4,
   "id": "d51bf323-5054-478c-9d59-9f9269792717",
   "metadata": {},
   "outputs": [],
   "source": [
    "DATA_DIR = 'data'"
   ]
  },
  {
   "cell_type": "markdown",
   "id": "9c65946c-4527-46d9-86b3-bc3543199c77",
   "metadata": {},
   "source": [
    "## Explore background mask"
   ]
  },
  {
   "cell_type": "code",
   "execution_count": 5,
   "id": "d2b3be1c-991f-4d0d-888a-ace4b7449105",
   "metadata": {},
   "outputs": [],
   "source": [
    "bkg = nb.load(os.path.join(DATA_DIR, '27cd6b8c7e8049edb874f9664c54f857_reorient-background.nii.gz'))"
   ]
  },
  {
   "cell_type": "code",
   "execution_count": 6,
   "id": "69ad0688-64e7-41cd-b7cf-bbcb72065560",
   "metadata": {},
   "outputs": [],
   "source": [
    "bkg_np = np.asanyarray(bkg.dataobj)"
   ]
  },
  {
   "cell_type": "code",
   "execution_count": 7,
   "id": "8e7689d9-e516-4006-81af-60babdbe9977",
   "metadata": {},
   "outputs": [
    {
     "data": {
      "text/plain": [
       "(512, 512, 541)"
      ]
     },
     "execution_count": 7,
     "metadata": {},
     "output_type": "execute_result"
    }
   ],
   "source": [
    "bkg_np.shape"
   ]
  },
  {
   "cell_type": "code",
   "execution_count": 14,
   "id": "1cfc552c-2892-41e3-b62f-8e0973b370a8",
   "metadata": {},
   "outputs": [
    {
     "data": {
      "text/plain": [
       "<matplotlib.image.AxesImage at 0x237a7b97b10>"
      ]
     },
     "execution_count": 14,
     "metadata": {},
     "output_type": "execute_result"
    },
    {
     "data": {
      "image/png": "[encoded data removed]",
      "text/plain": [
       "<Figure size 640x480 with 1 Axes>"
      ]
     },
     "metadata": {},
     "output_type": "display_data"
    }
   ],
   "source": [
    "plt.imshow(bkg_np[:, :, 0])"
   ]
  },
  {
   "cell_type": "code",
   "execution_count": 15,
   "id": "a42739a4-cdf4-40dc-8fae-087442e8723d",
   "metadata": {},
   "outputs": [],
   "source": [
    "ys, xs = np.where(bkg_np[:,:,0])"
   ]
  },
  {
   "cell_type": "code",
   "execution_count": 21,
   "id": "f60df56d-0ce8-47d0-a4c2-bbb6e1c243a7",
   "metadata": {},
   "outputs": [],
   "source": [
    "x_min, x_max = xs.min(), xs.max()\n",
    "y_min, y_max = ys.min(), ys.max()"
   ]
  },
  {
   "cell_type": "code",
   "execution_count": null,
   "id": "ebaed7fb-aa48-440c-aab1-ee2635d23e5d",
   "metadata": {},
   "outputs": [],
   "source": [
    "x_c = (x_min + x_max) // 2\n",
    "y_c = (y_min + y_max) // 2"
   ]
  },
  {
   "cell_type": "code",
   "execution_count": null,
   "id": "548318b7-3535-4fd7-a883-480532fc84df",
   "metadata": {},
   "outputs": [],
   "source": [
    "def find_centroid(image):\n",
    "    ys, xs = np.where(image)\n",
    "    x_min, x_max = xs.min(), xs.max()\n",
    "    y_min, y_max = ys.min(), ys.max()\n",
    "\n",
    "    "
   ]
  },
  {
   "cell_type": "code",
   "execution_count": null,
   "id": "f76f971f-7391-459d-9b1d-80779e7bc3aa",
   "metadata": {},
   "outputs": [],
   "source": []
  }
 ],
 "metadata": {
  "kernelspec": {
   "display_name": "Python 3 (ipykernel)",
   "language": "python",
   "name": "python3"
  },
  "language_info": {
   "codemirror_mode": {
    "name": "ipython",
    "version": 3
   },
   "file_extension": ".py",
   "mimetype": "text/x-python",
   "name": "python",
   "nbconvert_exporter": "python",
   "pygments_lexer": "ipython3",
   "version": "3.13.7"
  }
 },
 "nbformat": 4,
 "nbformat_minor": 5
}
