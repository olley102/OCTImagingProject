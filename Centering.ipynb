{
 "cells": [
  {
   "cell_type": "markdown",
   "id": "bc2a6fd6-e36b-478b-b623-8b98017eef9c",
   "metadata": {},
   "source": [
    "# Centering Images"
   ]
  },
  {
   "cell_type": "markdown",
   "id": "2b935970-8179-44f1-893a-ae7dd6b343a6",
   "metadata": {},
   "source": [
    "## Setup"
   ]
  },
  {
   "cell_type": "code",
   "execution_count": 1,
   "id": "399081d5-a6a5-43e4-aa61-5851a7048f03",
   "metadata": {},
   "outputs": [],
   "source": [
    "import os\n",
    "import numpy as np\n",
    "import matplotlib.pyplot as plt"
   ]
  },
  {
   "cell_type": "code",
   "execution_count": 2,
   "id": "7afbe4a8-c4ef-4361-b5af-dddf71e52644",
   "metadata": {},
   "outputs": [],
   "source": [
    "import nibabel as nb\n",
    "from nilearn import plotting"
   ]
  },
  {
   "cell_type": "code",
   "execution_count": 3,
   "id": "d102155b-0d7d-419a-abbf-ecab43296db5",
   "metadata": {},
   "outputs": [],
   "source": [
    "from scipy import ndimage"
   ]
  },
  {
   "cell_type": "code",
   "execution_count": 4,
   "id": "d51bf323-5054-478c-9d59-9f9269792717",
   "metadata": {},
   "outputs": [],
   "source": [
    "DATA_DIR = 'data'"
   ]
  },
  {
   "cell_type": "markdown",
   "id": "9c65946c-4527-46d9-86b3-bc3543199c77",
   "metadata": {},
   "source": [
    "## Explore background mask"
   ]
  },
  {
   "cell_type": "code",
   "execution_count": 18,
   "id": "d2b3be1c-991f-4d0d-888a-ace4b7449105",
   "metadata": {},
   "outputs": [],
   "source": [
    "lumen = nb.load(os.path.join(DATA_DIR, '27cd6b8c7e8049edb874f9664c54f857_reorient-lumen.nii.gz'))"
   ]
  },
  {
   "cell_type": "code",
   "execution_count": 19,
   "id": "69ad0688-64e7-41cd-b7cf-bbcb72065560",
   "metadata": {},
   "outputs": [],
   "source": [
    "lumen_np = np.asanyarray(lumen.dataobj)"
   ]
  },
  {
   "cell_type": "code",
   "execution_count": 20,
   "id": "8e7689d9-e516-4006-81af-60babdbe9977",
   "metadata": {},
   "outputs": [
    {
     "data": {
      "text/plain": [
       "(512, 512, 541)"
      ]
     },
     "execution_count": 20,
     "metadata": {},
     "output_type": "execute_result"
    }
   ],
   "source": [
    "lumen_np.shape"
   ]
  },
  {
   "cell_type": "markdown",
   "id": "3424a65f-ebcb-463a-9598-3c3c74accc95",
   "metadata": {},
   "source": [
    "## Centering"
   ]
  },
  {
   "cell_type": "code",
   "execution_count": 21,
   "id": "548318b7-3535-4fd7-a883-480532fc84df",
   "metadata": {},
   "outputs": [],
   "source": [
    "def find_centroid(image):\n",
    "    ys, xs = np.where(image)\n",
    "    x_min, x_max = xs.min(), xs.max()\n",
    "    y_min, y_max = ys.min(), ys.max()\n",
    "\n",
    "    x_c = (x_min + x_max) // 2\n",
    "    y_c = (y_min + y_max) // 2\n",
    "\n",
    "    return y_c, x_c"
   ]
  },
  {
   "cell_type": "code",
   "execution_count": 22,
   "id": "41b5cde4-9f88-4bc4-9dad-2da8ef88bb65",
   "metadata": {},
   "outputs": [],
   "source": [
    "def find_centroid(image):\n",
    "    y_c, x_c = ndimage.center_of_mass(image)\n",
    "    return int(y_c), int(x_c)"
   ]
  },
  {
   "cell_type": "code",
   "execution_count": 23,
   "id": "e1ce1977-c4ad-4ef6-abe3-130caae84a8a",
   "metadata": {},
   "outputs": [],
   "source": [
    "def translate_image(image, dy, dx):\n",
    "    translated = np.roll(image, dy, axis=0)\n",
    "    translated = np.roll(translated, dx, axis=1)\n",
    "    return translated"
   ]
  },
  {
   "cell_type": "code",
   "execution_count": 44,
   "id": "8f334d7d-0ebf-4884-8d1d-265703d5cc28",
   "metadata": {},
   "outputs": [],
   "source": [
    "def translate_image_seq(image_seq, dy_seq, dx_seq):\n",
    "    translated_seq = np.stack(\n",
    "        [translate_image(image_seq[:, :, i], dy[i], dx[i]) for i in range(image_seq.shape[2])],\n",
    "        axis=-1\n",
    "    )\n",
    "\n",
    "    return translated_seq"
   ]
  },
  {
   "cell_type": "code",
   "execution_count": 31,
   "id": "81b1f425-6045-49c1-a55c-50e9de73354c",
   "metadata": {},
   "outputs": [],
   "source": [
    "def center_image(image_seq):\n",
    "    y_c, x_c = np.array([find_centroid(image_seq[:, :, i]) for i in range(image_seq.shape[2])]).T\n",
    "    y_c_im, x_c_im = image_seq.shape[0] // 2, image_seq.shape[1] // 2\n",
    "\n",
    "    dx = x_c_im - x_c\n",
    "    dy = y_c_im - y_c\n",
    "\n",
    "    translated_seq = np.stack(\n",
    "        [translate_image(image_seq[:, :, i], dy[i], dx[i]) for i in range(image_seq.shape[2])],\n",
    "        axis=-1\n",
    "    )\n",
    "\n",
    "    return translated_seq, dy, dx"
   ]
  },
  {
   "cell_type": "code",
   "execution_count": 32,
   "id": "4b6d6c68-a527-4ae2-8f6d-62d47d018011",
   "metadata": {},
   "outputs": [],
   "source": [
    "centered_lumen, dy, dx = center_image(lumen_np)"
   ]
  },
  {
   "cell_type": "markdown",
   "id": "feac9c5f-e02a-472f-9aa0-a13d9c5022e5",
   "metadata": {},
   "source": [
    "**Centered**"
   ]
  },
  {
   "cell_type": "code",
   "execution_count": 33,
   "id": "0cb02a84-cd47-4156-a9ae-3a5ad55e194f",
   "metadata": {},
   "outputs": [
    {
     "data": {
      "image/png": "[encoded data removed]",
      "text/plain": [
       "<Figure size 1000x1500 with 3 Axes>"
      ]
     },
     "metadata": {},
     "output_type": "display_data"
    }
   ],
   "source": [
    "fig, ax = plt.subplots(1, 3, figsize=(10, 15))\n",
    "\n",
    "for i, ax in enumerate(ax):\n",
    "    ax.imshow(centered_lumen[:, :, i])"
   ]
  },
  {
   "cell_type": "markdown",
   "id": "07b4ce0d-3ad2-4fa1-bb79-ebc8be69a904",
   "metadata": {},
   "source": [
    "**Original**"
   ]
  },
  {
   "cell_type": "code",
   "execution_count": 34,
   "id": "231a69f7-0d27-49f8-8051-c1499c4c9320",
   "metadata": {},
   "outputs": [
    {
     "data": {
      "image/png": "[encoded data removed]",
      "text/plain": [
       "<Figure size 1000x1500 with 3 Axes>"
      ]
     },
     "metadata": {},
     "output_type": "display_data"
    }
   ],
   "source": [
    "fig, ax = plt.subplots(1, 3, figsize=(10, 15))\n",
    "\n",
    "for i, ax in enumerate(ax):\n",
    "    ax.imshow(lumen_np[:, :, i])"
   ]
  },
  {
   "cell_type": "markdown",
   "id": "37195b75-ca06-44fc-87f8-18539177bced",
   "metadata": {},
   "source": [
    "## Resizing"
   ]
  },
  {
   "cell_type": "code",
   "execution_count": 35,
   "id": "d5bfe6ec-ab6e-4503-80a5-ab47f3ac406b",
   "metadata": {},
   "outputs": [],
   "source": [
    "def repeat_resize(image, factor_y=2, factor_x=2):\n",
    "    res = image.repeat(factor_y, axis=0)\n",
    "    return res.repeat(factor_x, axis=1)"
   ]
  },
  {
   "cell_type": "code",
   "execution_count": 39,
   "id": "5baa1ed6-2692-46de-b1c6-30c662bf9956",
   "metadata": {},
   "outputs": [],
   "source": [
    "centered_res = np.stack(\n",
    "    [repeat_resize(centered_lumen[:,:,i]) for i in range(lumen_np.shape[2])],\n",
    "    axis=-1\n",
    ")"
   ]
  },
  {
   "cell_type": "code",
   "execution_count": 40,
   "id": "ce086c5f-f4bc-47b9-8cbc-527f040015ae",
   "metadata": {},
   "outputs": [
    {
     "data": {
      "text/plain": [
       "(1024, 1024, 541)"
      ]
     },
     "execution_count": 40,
     "metadata": {},
     "output_type": "execute_result"
    }
   ],
   "source": [
    "centered_res.shape"
   ]
  },
  {
   "cell_type": "code",
   "execution_count": 41,
   "id": "d2c6f2e3-cab5-4c17-a690-57636050d45c",
   "metadata": {},
   "outputs": [
    {
     "data": {
      "image/png": "[encoded data removed]",
      "text/plain": [
       "<Figure size 1000x1500 with 3 Axes>"
      ]
     },
     "metadata": {},
     "output_type": "display_data"
    }
   ],
   "source": [
    "fig, ax = plt.subplots(1, 3, figsize=(10, 15))\n",
    "\n",
    "for i, ax in enumerate(ax):\n",
    "    ax.imshow(centered_res[:, :, i])"
   ]
  },
  {
   "cell_type": "markdown",
   "id": "3b323138-844d-4b04-9516-11da13a34e60",
   "metadata": {},
   "source": [
    "## Apply to all masks"
   ]
  },
  {
   "cell_type": "code",
   "execution_count": 42,
   "id": "3a457483-d376-418b-9caa-0a275a3b6651",
   "metadata": {},
   "outputs": [],
   "source": [
    "file_identifier = \"27cd6b8c7e8049edb874f9664c54f857\""
   ]
  },
  {
   "cell_type": "code",
   "execution_count": 43,
   "id": "6d570121-bfda-4613-92ff-10b4a04825a9",
   "metadata": {},
   "outputs": [],
   "source": [
    "mask_files = [x for x in os.listdir(DATA_DIR) if x.startswith(file_identifier)]"
   ]
  },
  {
   "cell_type": "code",
   "execution_count": null,
   "id": "9dc9704e-ded6-4660-87c6-4db3d955c8e5",
   "metadata": {},
   "outputs": [],
   "source": [
    "for f in mask_files:\n",
    "    try:\n",
    "        nb_obj = nb.load(f)\n",
    "        mask_np = np.asanyarray()\n",
    "        translated_mask = translate_image_seq(mask_np, dy, dx)\n",
    "        res_mask = repeat_resize(translated_mask)\n",
    "\n",
    "        # save\n",
    "        ...\n",
    "\n",
    "        del nb_obj\n",
    "        del mask_np\n",
    "        del translated_mask\n",
    "        del res_mask\n",
    "    except Exception as e:\n",
    "        "
   ]
  }
 ],
 "metadata": {
  "kernelspec": {
   "display_name": "Python 3 (ipykernel)",
   "language": "python",
   "name": "python3"
  },
  "language_info": {
   "codemirror_mode": {
    "name": "ipython",
    "version": 3
   },
   "file_extension": ".py",
   "mimetype": "text/x-python",
   "name": "python",
   "nbconvert_exporter": "python",
   "pygments_lexer": "ipython3",
   "version": "3.13.7"
  }
 },
 "nbformat": 4,
 "nbformat_minor": 5
}
