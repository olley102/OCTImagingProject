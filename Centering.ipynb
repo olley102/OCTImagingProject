{
 "cells": [
  {
   "cell_type": "markdown",
   "id": "bc2a6fd6-e36b-478b-b623-8b98017eef9c",
   "metadata": {},
   "source": [
    "# Centering Images"
   ]
  },
  {
   "cell_type": "markdown",
   "id": "2b935970-8179-44f1-893a-ae7dd6b343a6",
   "metadata": {},
   "source": [
    "## Setup"
   ]
  },
  {
   "cell_type": "code",
   "execution_count": 2,
   "id": "399081d5-a6a5-43e4-aa61-5851a7048f03",
   "metadata": {},
   "outputs": [],
   "source": [
    "import os\n",
    "import numpy as np\n",
    "import matplotlib.pyplot as plt"
   ]
  },
  {
   "cell_type": "code",
   "execution_count": 3,
   "id": "7afbe4a8-c4ef-4361-b5af-dddf71e52644",
   "metadata": {},
   "outputs": [],
   "source": [
    "import nibabel as nb\n",
    "from nilearn import plotting"
   ]
  },
  {
   "cell_type": "code",
   "execution_count": 66,
   "id": "d102155b-0d7d-419a-abbf-ecab43296db5",
   "metadata": {},
   "outputs": [],
   "source": [
    "from scipy import ndimage"
   ]
  },
  {
   "cell_type": "code",
   "execution_count": 4,
   "id": "d51bf323-5054-478c-9d59-9f9269792717",
   "metadata": {},
   "outputs": [],
   "source": [
    "DATA_DIR = 'data'"
   ]
  },
  {
   "cell_type": "markdown",
   "id": "9c65946c-4527-46d9-86b3-bc3543199c77",
   "metadata": {},
   "source": [
    "## Explore background mask"
   ]
  },
  {
   "cell_type": "code",
   "execution_count": 5,
   "id": "d2b3be1c-991f-4d0d-888a-ace4b7449105",
   "metadata": {},
   "outputs": [],
   "source": [
    "bkg = nb.load(os.path.join(DATA_DIR, '27cd6b8c7e8049edb874f9664c54f857_reorient-background.nii.gz'))"
   ]
  },
  {
   "cell_type": "code",
   "execution_count": 6,
   "id": "69ad0688-64e7-41cd-b7cf-bbcb72065560",
   "metadata": {},
   "outputs": [],
   "source": [
    "bkg_np = np.asanyarray(bkg.dataobj)"
   ]
  },
  {
   "cell_type": "code",
   "execution_count": 7,
   "id": "8e7689d9-e516-4006-81af-60babdbe9977",
   "metadata": {},
   "outputs": [
    {
     "data": {
      "text/plain": [
       "(512, 512, 541)"
      ]
     },
     "execution_count": 7,
     "metadata": {},
     "output_type": "execute_result"
    }
   ],
   "source": [
    "bkg_np.shape"
   ]
  },
  {
   "cell_type": "code",
   "execution_count": null,
   "id": "850f53e7-6a46-40df-84b9-aa95015b1212",
   "metadata": {},
   "outputs": [],
   "source": [
    "plt.imshow(bkg_np[:, :, 0])"
   ]
  },
  {
   "cell_type": "code",
   "execution_count": 15,
   "id": "a42739a4-cdf4-40dc-8fae-087442e8723d",
   "metadata": {},
   "outputs": [],
   "source": [
    "ys, xs = np.where(bkg_np[:,:,0])"
   ]
  },
  {
   "cell_type": "code",
   "execution_count": 21,
   "id": "f60df56d-0ce8-47d0-a4c2-bbb6e1c243a7",
   "metadata": {},
   "outputs": [],
   "source": [
    "x_min, x_max = xs.min(), xs.max()\n",
    "y_min, y_max = ys.min(), ys.max()"
   ]
  },
  {
   "cell_type": "code",
   "execution_count": 23,
   "id": "ebaed7fb-aa48-440c-aab1-ee2635d23e5d",
   "metadata": {},
   "outputs": [],
   "source": [
    "x_c = (x_min + x_max) // 2\n",
    "y_c = (y_min + y_max) // 2"
   ]
  },
  {
   "cell_type": "code",
   "execution_count": 25,
   "id": "fe86c96a-d673-4c10-a318-8e735ef77a48",
   "metadata": {},
   "outputs": [
    {
     "data": {
      "text/plain": [
       "np.int64(234)"
      ]
     },
     "execution_count": 25,
     "metadata": {},
     "output_type": "execute_result"
    }
   ],
   "source": [
    "x_c"
   ]
  },
  {
   "cell_type": "code",
   "execution_count": 26,
   "id": "b839014b-7167-4379-8fa8-ff9cce182c88",
   "metadata": {},
   "outputs": [
    {
     "data": {
      "text/plain": [
       "np.int64(290)"
      ]
     },
     "execution_count": 26,
     "metadata": {},
     "output_type": "execute_result"
    }
   ],
   "source": [
    "y_c"
   ]
  },
  {
   "cell_type": "code",
   "execution_count": 27,
   "id": "548318b7-3535-4fd7-a883-480532fc84df",
   "metadata": {},
   "outputs": [],
   "source": [
    "def find_centroid(image):\n",
    "    ys, xs = np.where(image)\n",
    "    x_min, x_max = xs.min(), xs.max()\n",
    "    y_min, y_max = ys.min(), ys.max()\n",
    "\n",
    "    x_c = (x_min + x_max) // 2\n",
    "    y_c = (y_min + y_max) // 2\n",
    "\n",
    "    return y_c, x_c"
   ]
  },
  {
   "cell_type": "code",
   "execution_count": 74,
   "id": "41b5cde4-9f88-4bc4-9dad-2da8ef88bb65",
   "metadata": {},
   "outputs": [],
   "source": [
    "def find_centroid(image):\n",
    "    y_c, x_c = ndimage.center_of_mass(image)\n",
    "    return int(y_c), int(x_c)"
   ]
  },
  {
   "cell_type": "code",
   "execution_count": 75,
   "id": "16fb7f1e-2402-4a3e-b87c-1286f92a681d",
   "metadata": {},
   "outputs": [
    {
     "data": {
      "text/plain": [
       "(292, 234)"
      ]
     },
     "execution_count": 75,
     "metadata": {},
     "output_type": "execute_result"
    }
   ],
   "source": [
    "find_centroid(bkg_np[:,:,0])"
   ]
  },
  {
   "cell_type": "code",
   "execution_count": 68,
   "id": "f76f971f-7391-459d-9b1d-80779e7bc3aa",
   "metadata": {
    "scrolled": true
   },
   "outputs": [],
   "source": [
    "y_c, x_c = np.array([find_centroid(bkg_np[:, :, i]) for i in range(bkg_np.shape[2])]).T"
   ]
  },
  {
   "cell_type": "code",
   "execution_count": 48,
   "id": "b8683693-2895-4cd8-83f5-74a8217a3198",
   "metadata": {},
   "outputs": [
    {
     "data": {
      "text/plain": [
       "(256, 256)"
      ]
     },
     "execution_count": 48,
     "metadata": {},
     "output_type": "execute_result"
    }
   ],
   "source": [
    "bkg_np.shape[0] // 2, bkg_np.shape[1] // 2"
   ]
  },
  {
   "cell_type": "code",
   "execution_count": 76,
   "id": "e1ce1977-c4ad-4ef6-abe3-130caae84a8a",
   "metadata": {},
   "outputs": [],
   "source": [
    "def translate_image(image, dy, dx):\n",
    "    translated = np.roll(image, dy, axis=0)\n",
    "    translated = np.roll(translated, dx, axis=1)\n",
    "    return translated"
   ]
  },
  {
   "cell_type": "code",
   "execution_count": 80,
   "id": "23045a36-5d6e-45dc-8268-5b1082b5a3c8",
   "metadata": {},
   "outputs": [
    {
     "data": {
      "text/plain": [
       "-36"
      ]
     },
     "execution_count": 80,
     "metadata": {},
     "output_type": "execute_result"
    }
   ],
   "source": [
    "256 - 292"
   ]
  },
  {
   "cell_type": "code",
   "execution_count": 81,
   "id": "81b1f425-6045-49c1-a55c-50e9de73354c",
   "metadata": {},
   "outputs": [],
   "source": [
    "def center_image(image_seq):\n",
    "    y_c, x_c = np.array([find_centroid(image_seq[:, :, i]) for i in range(image_seq.shape[2])]).T\n",
    "    y_c_im, x_c_im = image_seq.shape[0] // 2, image_seq.shape[1] // 2\n",
    "\n",
    "    dx = x_c_im - x_c\n",
    "    dy = y_c_im - y_c\n",
    "\n",
    "    translated_seq = np.stack(\n",
    "        [translate_image(image_seq[:, :, i], dy[i], dx[i]) for i in range(image_seq.shape[2])],\n",
    "        axis=-1\n",
    "    )\n",
    "\n",
    "    return translated_seq"
   ]
  },
  {
   "cell_type": "code",
   "execution_count": 82,
   "id": "4b6d6c68-a527-4ae2-8f6d-62d47d018011",
   "metadata": {},
   "outputs": [],
   "source": [
    "centered_bkg = center_image(bkg_np)"
   ]
  },
  {
   "cell_type": "code",
   "execution_count": 84,
   "id": "0cb02a84-cd47-4156-a9ae-3a5ad55e194f",
   "metadata": {},
   "outputs": [
    {
     "data": {
      "image/png": "[encoded data removed]",
      "text/plain": [
       "<Figure size 1000x1500 with 3 Axes>"
      ]
     },
     "metadata": {},
     "output_type": "display_data"
    }
   ],
   "source": [
    "fig, ax = plt.subplots(1, 3, figsize=(10, 15))\n",
    "\n",
    "for i, ax in enumerate(ax):\n",
    "    ax.imshow(centered_bkg[:, :, i+3])"
   ]
  },
  {
   "cell_type": "code",
   "execution_count": 85,
   "id": "231a69f7-0d27-49f8-8051-c1499c4c9320",
   "metadata": {},
   "outputs": [
    {
     "data": {
      "image/png": "[encoded data removed]",
      "text/plain": [
       "<Figure size 1000x1500 with 3 Axes>"
      ]
     },
     "metadata": {},
     "output_type": "display_data"
    }
   ],
   "source": [
    "fig, ax = plt.subplots(1, 3, figsize=(10, 15))\n",
    "\n",
    "for i, ax in enumerate(ax):\n",
    "    ax.imshow(bkg_np[:, :, i+3])"
   ]
  },
  {
   "cell_type": "code",
   "execution_count": null,
   "id": "d2c6f2e3-cab5-4c17-a690-57636050d45c",
   "metadata": {},
   "outputs": [],
   "source": []
  }
 ],
 "metadata": {
  "kernelspec": {
   "display_name": "Python 3 (ipykernel)",
   "language": "python",
   "name": "python3"
  },
  "language_info": {
   "codemirror_mode": {
    "name": "ipython",
    "version": 3
   },
   "file_extension": ".py",
   "mimetype": "text/x-python",
   "name": "python",
   "nbconvert_exporter": "python",
   "pygments_lexer": "ipython3",
   "version": "3.13.7"
  }
 },
 "nbformat": 4,
 "nbformat_minor": 5
}
