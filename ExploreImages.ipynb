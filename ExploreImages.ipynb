{
 "cells": [
  {
   "cell_type": "code",
   "execution_count": 2,
   "id": "399081d5-a6a5-43e4-aa61-5851a7048f03",
   "metadata": {},
   "outputs": [],
   "source": [
    "import os"
   ]
  },
  {
   "cell_type": "code",
   "execution_count": 1,
   "id": "7afbe4a8-c4ef-4361-b5af-dddf71e52644",
   "metadata": {},
   "outputs": [],
   "source": [
    "import nibabel as nb\n",
    "from nilearn import plotting"
   ]
  },
  {
   "cell_type": "code",
   "execution_count": 7,
   "id": "e50db550-26d0-4162-82f4-d4d0e28b4eb4",
   "metadata": {},
   "outputs": [],
   "source": [
    "import numpy as np"
   ]
  },
  {
   "cell_type": "code",
   "execution_count": 3,
   "id": "d51bf323-5054-478c-9d59-9f9269792717",
   "metadata": {},
   "outputs": [],
   "source": [
    "DATA_DIR = 'data'"
   ]
  },
  {
   "cell_type": "code",
   "execution_count": 4,
   "id": "d2b3be1c-991f-4d0d-888a-ace4b7449105",
   "metadata": {},
   "outputs": [],
   "source": [
    "img = nb.load(os.path.join(DATA_DIR, '27cd6b8c7e8049edb874f9664c54f857_reorient-background.nii.gz'))"
   ]
  },
  {
   "cell_type": "code",
   "execution_count": 9,
   "id": "69ad0688-64e7-41cd-b7cf-bbcb72065560",
   "metadata": {},
   "outputs": [],
   "source": [
    "img_np = np.asanyarray(img.dataobj)"
   ]
  },
  {
   "cell_type": "code",
   "execution_count": 10,
   "id": "8e7689d9-e516-4006-81af-60babdbe9977",
   "metadata": {},
   "outputs": [
    {
     "data": {
      "text/plain": [
       "(512, 512, 541)"
      ]
     },
     "execution_count": 10,
     "metadata": {},
     "output_type": "execute_result"
    }
   ],
   "source": [
    "img_np.shape"
   ]
  },
  {
   "cell_type": "code",
   "execution_count": null,
   "id": "1cfc552c-2892-41e3-b62f-8e0973b370a8",
   "metadata": {},
   "outputs": [],
   "source": []
  }
 ],
 "metadata": {
  "kernelspec": {
   "display_name": "Python 3 (ipykernel)",
   "language": "python",
   "name": "python3"
  },
  "language_info": {
   "codemirror_mode": {
    "name": "ipython",
    "version": 3
   },
   "file_extension": ".py",
   "mimetype": "text/x-python",
   "name": "python",
   "nbconvert_exporter": "python",
   "pygments_lexer": "ipython3",
   "version": "3.13.7"
  }
 },
 "nbformat": 4,
 "nbformat_minor": 5
}
