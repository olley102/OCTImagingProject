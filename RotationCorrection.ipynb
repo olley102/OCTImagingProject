{
 "cells": [
  {
   "cell_type": "markdown",
   "id": "e8aa6227-0ee5-42d3-8c45-5d10d0e8f8a0",
   "metadata": {},
   "source": [
    "# Rotation correction"
   ]
  },
  {
   "cell_type": "markdown",
   "id": "47e12147-2e86-4552-96c2-3a982ed687c5",
   "metadata": {},
   "source": [
    "## Setup"
   ]
  },
  {
   "cell_type": "code",
   "execution_count": 1,
   "id": "79339157-2705-4784-b5cf-8ed7f0d4c6a3",
   "metadata": {},
   "outputs": [],
   "source": [
    "import os\n",
    "import numpy as np\n",
    "import matplotlib.pyplot as plt"
   ]
  },
  {
   "cell_type": "code",
   "execution_count": 2,
   "id": "ada92d69-e34c-4075-846f-3447eafa96c5",
   "metadata": {},
   "outputs": [],
   "source": [
    "import nibabel as nb\n",
    "from nilearn import plotting"
   ]
  },
  {
   "cell_type": "code",
   "execution_count": 3,
   "id": "47446fc9-a7ae-4f34-947d-d4abb2c251bb",
   "metadata": {},
   "outputs": [],
   "source": [
    "from scipy import ndimage"
   ]
  },
  {
   "cell_type": "code",
   "execution_count": 4,
   "id": "10c9f4e0-83e5-4a19-9e4e-7e406659ed0d",
   "metadata": {},
   "outputs": [],
   "source": [
    "DATA_DIR = 'data'"
   ]
  },
  {
   "cell_type": "markdown",
   "id": "49cdb81f-8b66-4539-8ca0-d88677b99dc1",
   "metadata": {},
   "source": [
    "## Load mask file"
   ]
  },
  {
   "cell_type": "code",
   "execution_count": 5,
   "id": "87be6ad0-9440-4854-a8dc-9c3205039a62",
   "metadata": {},
   "outputs": [],
   "source": [
    "mask_seq = np.load(\n",
    "    os.path.join(DATA_DIR, 'centered_27cd6b8c7e8049edb874f9664c54f857_reorient-sidebranch.nii.gz.npy')\n",
    ")"
   ]
  },
  {
   "cell_type": "code",
   "execution_count": 6,
   "id": "a44a91f5-a480-40ca-9938-7c1105dbefa3",
   "metadata": {},
   "outputs": [
    {
     "data": {
      "text/plain": [
       "(1024, 1024, 541)"
      ]
     },
     "execution_count": 6,
     "metadata": {},
     "output_type": "execute_result"
    }
   ],
   "source": [
    "mask_seq.shape"
   ]
  },
  {
   "cell_type": "code",
   "execution_count": 8,
   "id": "14c3ae09-40a3-41fe-b1f8-73ca1858cd2d",
   "metadata": {},
   "outputs": [
    {
     "data": {
      "text/plain": [
       "<matplotlib.image.AxesImage at 0x203dfc4ae90>"
      ]
     },
     "execution_count": 8,
     "metadata": {},
     "output_type": "execute_result"
    },
    {
     "data": {
      "image/png": "[encoded data removed]",
      "text/plain": [
       "<Figure size 640x480 with 1 Axes>"
      ]
     },
     "metadata": {},
     "output_type": "display_data"
    }
   ],
   "source": [
    "plt.imshow(mask_seq[:,:,200])"
   ]
  },
  {
   "cell_type": "markdown",
   "id": "640d5d02-0ebb-4a01-8baf-24d4425f158e",
   "metadata": {},
   "source": [
    "## Filter for non-zero consecutive frames"
   ]
  },
  {
   "cell_type": "code",
   "execution_count": null,
   "id": "e77374f0-f93f-4909-af6f-acc78a2d24db",
   "metadata": {},
   "outputs": [],
   "source": [
    "jhdsggdfshljkgsdds"
   ]
  },
  {
   "cell_type": "markdown",
   "id": "facf7981-bc3b-4100-84a5-0096b01acc81",
   "metadata": {},
   "source": [
    "## Centroid of mask"
   ]
  },
  {
   "cell_type": "code",
   "execution_count": null,
   "id": "95a9093a-bd64-4497-b08d-00d9b0b3c349",
   "metadata": {},
   "outputs": [],
   "source": []
  },
  {
   "cell_type": "markdown",
   "id": "1d091529-64b9-4381-a1ca-d69286ca44f6",
   "metadata": {},
   "source": [
    "## Vector to centroid from central point of image"
   ]
  },
  {
   "cell_type": "code",
   "execution_count": null,
   "id": "540443d0-ffff-42b9-b49d-f018c3983b84",
   "metadata": {},
   "outputs": [],
   "source": []
  },
  {
   "cell_type": "markdown",
   "id": "7b83d233-a08d-4ff9-a65f-97a70904c348",
   "metadata": {},
   "source": [
    "## Find angle of rotation between consecutive frames"
   ]
  },
  {
   "cell_type": "code",
   "execution_count": null,
   "id": "94f45584-5f53-4e81-b49f-e4079cbff167",
   "metadata": {},
   "outputs": [],
   "source": []
  },
  {
   "cell_type": "markdown",
   "id": "7c6f5060-df44-41d7-9ed5-b40837dd9132",
   "metadata": {},
   "source": [
    "## Plot angles in histogram"
   ]
  },
  {
   "cell_type": "code",
   "execution_count": null,
   "id": "e5be65fb-1497-47c3-bc07-ad3a2538bccd",
   "metadata": {},
   "outputs": [],
   "source": []
  }
 ],
 "metadata": {
  "kernelspec": {
   "display_name": "Python 3 (ipykernel)",
   "language": "python",
   "name": "python3"
  },
  "language_info": {
   "codemirror_mode": {
    "name": "ipython",
    "version": 3
   },
   "file_extension": ".py",
   "mimetype": "text/x-python",
   "name": "python",
   "nbconvert_exporter": "python",
   "pygments_lexer": "ipython3",
   "version": "3.13.7"
  }
 },
 "nbformat": 4,
 "nbformat_minor": 5
}
